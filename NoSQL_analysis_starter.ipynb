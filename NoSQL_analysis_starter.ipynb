{
 "cells": [
  {
   "cell_type": "markdown",
   "id": "9a57c4c6",
   "metadata": {},
   "source": [
    "# Eat Safe, Love"
   ]
  },
  {
   "cell_type": "markdown",
   "id": "bbe4e8a9",
   "metadata": {},
   "source": [
    "Import the dataset with mongoimport --type json -d uk_food -c establishments --drop --jsonArray establishments.json"
   ]
  },
  {
   "cell_type": "markdown",
   "id": "064ef857",
   "metadata": {},
   "source": [
    "## Notebook Set Up"
   ]
  },
  {
   "cell_type": "code",
   "execution_count": null,
   "id": "3ecdd008",
   "metadata": {},
   "outputs": [],
   "source": [
    "# Import dependencies\n",
    "from pymongo import MongoClient\n",
    "from pprint import pprint"
   ]
  },
  {
   "cell_type": "code",
   "execution_count": null,
   "id": "59390c4a",
   "metadata": {},
   "outputs": [],
   "source": [
    "# Create an instance of MongoClient\n",
    "mongo = MongoClient(port=27017)"
   ]
  },
  {
   "cell_type": "code",
   "execution_count": null,
   "id": "71e373c1",
   "metadata": {},
   "outputs": [],
   "source": [
    "# assign the uk_food database to a variable name\n",
    "uk_food = mongo['uk_food']"
   ]
  },
  {
   "cell_type": "code",
   "execution_count": null,
   "id": "18ab463c",
   "metadata": {},
   "outputs": [],
   "source": [
    "# review the collections in our database\n",
    "print(uk_food.list_collection_names())"
   ]
  },
  {
   "cell_type": "code",
   "execution_count": null,
   "id": "11c9f11b",
   "metadata": {},
   "outputs": [],
   "source": [
    "# assign the collection to a variable\n",
    "establishments = uk_food['establishments']"
   ]
  },
  {
   "cell_type": "code",
   "execution_count": null,
   "id": "4910bf8f",
   "metadata": {},
   "outputs": [],
   "source": [
    "findone = uk_food.establishments.find_one()\n",
    "pprint(findone)"
   ]
  },
  {
   "cell_type": "markdown",
   "id": "d5671434",
   "metadata": {},
   "source": [
    "## Part 3: Exploratory Analysis\n",
    "Unless otherwise stated, for each question: \n",
    "* Use `count_documents` to display the number of documents contained in the result.\n",
    "* Display the first document in the results using `pprint`.\n",
    "* Convert the result to a Pandas DataFrame, print the number of rows in the DataFrame, and display the first 10 rows."
   ]
  },
  {
   "cell_type": "markdown",
   "id": "314bd884",
   "metadata": {},
   "source": [
    "### 1. Which establishments have a hygiene score equal to 20?"
   ]
  },
  {
   "cell_type": "code",
   "execution_count": null,
   "id": "c2da7648",
   "metadata": {},
   "outputs": [],
   "source": [
    "# Find the establishments with a hygiene score of 20\n",
    "query = {'scores.Hygiene': 20}\n",
    "\n",
    "# Use count_documents to display the number of documents in the result\n",
    "print('Establishments with a hygiene score of 20:', establishments.count_documents(query))\n",
    "\n",
    "# Display the first document in the results using pprint\n",
    "pprint(\"First result:\")\n",
    "results = establishments.find(query)\n",
    "pprint(results[0])"
   ]
  },
  {
   "cell_type": "code",
   "execution_count": null,
   "id": "a6e5cece",
   "metadata": {},
   "outputs": [],
   "source": [
    "# Convert the result to a Pandas DataFrame\n",
    "import pandas as pd\n",
    "list_ = list(results)\n",
    "establishments_df = pd.DataFrame(list_)\n",
    "establishments_df\n",
    "\n",
    "# Display the number of rows in the DataFrame\n",
    "print(\"The number of rows is:\", len(establishments_df))\n",
    "\n",
    "# Display the first 10 rows of the DataFrame\n",
    "establishments_df.head(10)"
   ]
  },
  {
   "cell_type": "markdown",
   "id": "0ef4395a",
   "metadata": {},
   "source": [
    "### 2. Which establishments in London have a `RatingValue` greater than or equal to 4?"
   ]
  },
  {
   "cell_type": "code",
   "execution_count": null,
   "id": "93c63829",
   "metadata": {},
   "outputs": [],
   "source": [
    "# Find the establishments with London as the Local Authority and has a RatingValue greater than or equal to 4.\n",
    "query = {'LocalAuthorityName': {'$regex':'London'},'RatingValue': {'$gte': '4'}}\n",
    "results = establishments.find(query)\n",
    "for x in results:\n",
    "    pprint(x)\n",
    "\n",
    "# Use count_documents to display the number of documents in the result\n",
    "print('Establishments with London as the Local Authority and a RatingValue greater than or equal to 4:',\\\n",
    "      establishments.count_documents(query))\n",
    "\n",
    "# Display the first document in the results using pprint\n",
    "pprint(\"First result:\")\n",
    "results = establishments.find(query)\n",
    "pprint(results[0])"
   ]
  },
  {
   "cell_type": "code",
   "execution_count": null,
   "id": "07e24ccb",
   "metadata": {},
   "outputs": [],
   "source": [
    "# Convert the result to a Pandas DataFrame\n",
    "list2 = list(results)\n",
    "londondf = pd.DataFrame(list2)\n",
    "londondf\n",
    "\n",
    "# Display the number of rows in the DataFrame\n",
    "print(\"The number of rows is:\", len(londondf))\n",
    "\n",
    "# Display the first 10 rows of the DataFrame\n",
    "londondf.head()"
   ]
  },
  {
   "cell_type": "markdown",
   "id": "4e570caf",
   "metadata": {},
   "source": [
    "### 3. What are the top 5 establishments with a `RatingValue` rating value of 5, sorted by lowest hygiene score, nearest to the new restaurant added, \"Penang Flavours\"?"
   ]
  },
  {
   "cell_type": "code",
   "execution_count": null,
   "id": "aba47f1b",
   "metadata": {},
   "outputs": [],
   "source": [
    "pprint(establishments.find_one())"
   ]
  },
  {
   "cell_type": "code",
   "execution_count": null,
   "id": "7f599f3d",
   "metadata": {},
   "outputs": [],
   "source": [
    "# Search within 0.01 degree on either side of the latitude and longitude.\n",
    "# Rating value must equal 5\n",
    "# Sort by hygiene score\n",
    "\n",
    "\n",
    "# Find lat and long of desired search \n",
    "degree_search = 0.01\n",
    "latitude = 51.49014200\n",
    "longitude = 0.08384000\n",
    "\n",
    "lat_max = latitude + degree_search\n",
    "lat_min = latitude - degree_search\n",
    "long_max = longitude + degree_search\n",
    "long_min = longitude - degree_search\n",
    "\n",
    "# Query\n",
    "query = {'RatingValue': '5',\n",
    "         'geocode.latitude': {'$lte': lat_max, '$gte': lat_min},\n",
    "         'geocode.longitude': {'$lte': long_max,'$gte': long_min}}\n",
    "\n",
    "sort = [('scores.Hygiene', 1)]\n",
    "         \n",
    "limit = 5\n",
    "         \n",
    "\n",
    "\n",
    "# Print the results\n",
    "results = list(establishments.find(query).sort(sort).limit(limit))\n",
    "pprint(results)"
   ]
  },
  {
   "cell_type": "code",
   "execution_count": null,
   "id": "a6ad16f7",
   "metadata": {},
   "outputs": [],
   "source": [
    "# Convert result to Pandas DataFrame\n",
    "latlongdf = pd.DataFrame(results)\n",
    "latlongdf"
   ]
  },
  {
   "cell_type": "markdown",
   "id": "67281254",
   "metadata": {},
   "source": [
    "### 4. How many establishments in each Local Authority area have a hygiene score of 0?"
   ]
  },
  {
   "cell_type": "code",
   "execution_count": null,
   "id": "4eeb227e",
   "metadata": {},
   "outputs": [],
   "source": [
    "# Create a pipeline that: \n",
    "# 1. Matches establishments with a hygiene score of 0\n",
    " match_query = {'$match': {'scores.Hygiene':0}}\n",
    "\n",
    "# 2. Groups the matches by Local Authority\n",
    " group_query = {'$group': {'_id': '$LocalAuthorityName',\n",
    "              'count': { '$sum': 1}}}\n",
    "\n",
    "# 3. Sorts the matches from highest to lowest\n",
    " sort_values = {'$sort': {'count': -1}}\n",
    "\n",
    "# Print the number of documents in the result\n",
    "pipeline = [match_query, group_query, sort_values]\n",
    "results = establishments.aggregate(pipeline)\n",
    "results_list = list(results)\n",
    "print(\"Number of rows in result: \", len(results_list))\n",
    "\n",
    "# Print the first 10 results\n",
    "tenresults = pprint(results_list[0:10])\n",
    "tenresults"
   ]
  },
  {
   "cell_type": "code",
   "execution_count": null,
   "id": "d8aab364",
   "metadata": {},
   "outputs": [],
   "source": [
    "# Convert the result to a Pandas DataFrame\n",
    " results = establishments.aggregate(pipeline)\n",
    "tendf = pd.DataFrame(results)\n",
    "tendf\n",
    "\n",
    "# Display the number of rows in the DataFrame\n",
    "len(tendf)\n",
    "\n",
    "# Display the first 10 rows of the DataFrame\n",
    "tendf.head(10)"
   ]
  }
 ],
 "metadata": {
  "kernelspec": {
   "display_name": "Python 3 (ipykernel)",
   "language": "python",
   "name": "python3"
  },
  "language_info": {
   "codemirror_mode": {
    "name": "ipython",
    "version": 3
   },
   "file_extension": ".py",
   "mimetype": "text/x-python",
   "name": "python",
   "nbconvert_exporter": "python",
   "pygments_lexer": "ipython3",
   "version": "3.10.9"
  }
 },
 "nbformat": 4,
 "nbformat_minor": 5
}
